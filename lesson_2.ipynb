{
 "cells": [
  {
   "attachments": {},
   "cell_type": "markdown",
   "metadata": {},
   "source": [
    "# Lesson 2 | Variables and Data Types - None and Numeric\n",
    "\n",
    "This will include descriptions followed by blocks of code with errors. Fix the errors to pass on to the next block!"
   ]
  },
  {
   "attachments": {},
   "cell_type": "markdown",
   "metadata": {},
   "source": [
    "- Variables are used to store data values.\n",
    "- Variable names are case-sensitive and can consist of letters, digits, and underscores.\n",
    "- Variable names should start with a letter or an underscore. (although they can contain numbers, they cannot start with them)"
   ]
  },
  {
   "cell_type": "code",
   "execution_count": null,
   "metadata": {},
   "outputs": [],
   "source": [
    "# Examples\n",
    "x = 5\n",
    "file_4 = \"hello.txt\"\n",
    "4th_file = \"hello.txt\" # Invalid! comment this line out or rename and run the cell!\n",
    "\n",
    "print(file_4) # what will be the output?"
   ]
  },
  {
   "cell_type": "code",
   "execution_count": null,
   "metadata": {},
   "outputs": [],
   "source": [
    "file_4 = \"goodbye.txt\"\n",
    "\n",
    "print(file_4) # what will be the output?"
   ]
  },
  {
   "attachments": {},
   "cell_type": "markdown",
   "metadata": {},
   "source": [
    "We just replaced the value of `file_4` from \"hello.txt\" to \"goodbye.txt\"!"
   ]
  },
  {
   "attachments": {},
   "cell_type": "markdown",
   "metadata": {},
   "source": [
    "### None Type\n",
    "\n",
    "``None (NoneType)``: \n",
    "- Represents the absence of a value or a null value.\n",
    "- Sometiumes used as 'default' or placeholder values\n",
    "- Sometimes returned by a function when the process fails\n",
    "- Can be used to check if a variable exists (we will go into this later)"
   ]
  },
  {
   "attachments": {},
   "cell_type": "markdown",
   "metadata": {},
   "source": [
    "### Numeric Types:\n",
    "\n",
    "``int (integer):``\n",
    "- Represents integer values (e.g., 10, -5, 0).\n",
    "\n",
    "``float:``\n",
    "- Represents floating-point numbers with decimal precision (e.g., 3.14, -2.5)."
   ]
  },
  {
   "attachments": {},
   "cell_type": "markdown",
   "metadata": {},
   "source": [
    "#### Math Operations"
   ]
  },
  {
   "attachments": {},
   "cell_type": "markdown",
   "metadata": {},
   "source": [
    "``Addition: + :`` \n",
    "- Example: 3 + 5 would result in 8.\n",
    "\n",
    "``Subtraction: - :``\n",
    "- Example: 10 - 7 would result in 3.\n",
    "\n",
    "``Multiplication: * :``\n",
    "- Example: 4 * 6 would result in 24.\n",
    "\n",
    "``Division: / :``\n",
    "- Example: 15 / 3 would result in 5.0."
   ]
  },
  {
   "attachments": {},
   "cell_type": "markdown",
   "metadata": {},
   "source": [
    "#### Complex Operations\n",
    "\n",
    "``Exponentiation: ** :``\n",
    "- Example: 2 `` 3 would result in 8. \n",
    "- (It raises the first number to the power of the second number.)"
   ]
  },
  {
   "cell_type": "code",
   "execution_count": null,
   "metadata": {},
   "outputs": [],
   "source": [
    "x = 3 ** 3\n",
    "\n",
    "predicted_output = None # what will be the output?\n",
    "\n",
    "assert x == predicted_output\n",
    "print(\"Correct! x is \", x)"
   ]
  },
  {
   "attachments": {},
   "cell_type": "markdown",
   "metadata": {},
   "source": [
    "``Modulo (Remainder): % :``\n",
    "- Example: 15 % 2 would result in 1. \n",
    "- (It returns the remainder of the division.)"
   ]
  },
  {
   "cell_type": "code",
   "execution_count": null,
   "metadata": {},
   "outputs": [],
   "source": [
    "x = 21 % 5\n",
    "\n",
    "predicted_output = None # what will be the output?\n",
    "\n",
    "assert x == predicted_output\n",
    "print(\"Correct! x is \", x)"
   ]
  },
  {
   "attachments": {},
   "cell_type": "markdown",
   "metadata": {},
   "source": [
    "``Floor Division: // :``\n",
    "- Example: 15 // 2 would result in 7. \n",
    "- (It discards the fractional part and returns the integer quotient.)"
   ]
  },
  {
   "cell_type": "code",
   "execution_count": null,
   "metadata": {},
   "outputs": [],
   "source": [
    "# Fix the following definition of x to satisfy the assertion without changing the numbers.\n",
    "x = 21 // 5\n",
    "\n",
    "predicted_output = None # what will be the output?\n",
    "\n",
    "assert x == predicted_output\n",
    "print(\"Correct! x is \", x)"
   ]
  },
  {
   "attachments": {},
   "cell_type": "markdown",
   "metadata": {},
   "source": [
    "### In Practice\n",
    "but how do we modify these in code?"
   ]
  },
  {
   "cell_type": "code",
   "execution_count": null,
   "metadata": {},
   "outputs": [],
   "source": [
    "# if we have\n",
    "x = 2\n",
    "\n",
    "# and then we do...\n",
    "x + 2\n",
    "\n",
    "# what is the value of x?\n",
    "print(x)"
   ]
  },
  {
   "attachments": {},
   "cell_type": "markdown",
   "metadata": {},
   "source": [
    "Was that what you were expecting? When we do `x+2`, this evaluates to `4` in this case, but we are not capturing that value anywhere.  \n",
    "\n",
    "The number `4` dissapears into the computer void and x is still `2`!"
   ]
  },
  {
   "cell_type": "code",
   "execution_count": null,
   "metadata": {},
   "outputs": [],
   "source": [
    "# We have to set the value of x to reflect the new evaluated value.\n",
    "x = x + 2\n",
    "\n",
    "# what is the value of x?\n",
    "print(x)"
   ]
  },
  {
   "cell_type": "code",
   "execution_count": null,
   "metadata": {},
   "outputs": [],
   "source": [
    "x = 2 # Remember, whenever we use `=`, it assigns that variable to that value, replacing anything that was there before\n",
    "\n",
    "# how do we change the value of x to fulfill the following assertion?\n",
    "\n",
    "x = None\n",
    "\n",
    "\n",
    "assert x == 4"
   ]
  },
  {
   "attachments": {},
   "cell_type": "markdown",
   "metadata": {},
   "source": [
    "Finally, this is such a common procedure that python (and many other programming languages) have a shorthand for this process"
   ]
  },
  {
   "cell_type": "code",
   "execution_count": null,
   "metadata": {},
   "outputs": [],
   "source": [
    "x = 2\n",
    "\n",
    "x += 2 # same as x = x + 2\n",
    "\n",
    "assert x == 4"
   ]
  },
  {
   "attachments": {},
   "cell_type": "markdown",
   "metadata": {},
   "source": [
    "This also works for all the math operations we talked about earlier!"
   ]
  },
  {
   "cell_type": "code",
   "execution_count": null,
   "metadata": {},
   "outputs": [],
   "source": [
    "x = 2\n",
    "\n",
    "x *= 5  # x = x * 3\n",
    "print(x)\n",
    "\n",
    "x -= 1  # x = x - 1\n",
    "print(x)\n",
    "\n",
    "x //= 4  # x = x // 4\n",
    "print(x)"
   ]
  }
 ],
 "metadata": {
  "kernelspec": {
   "display_name": "Python 3",
   "language": "python",
   "name": "python3"
  },
  "language_info": {
   "codemirror_mode": {
    "name": "ipython",
    "version": 3
   },
   "file_extension": ".py",
   "mimetype": "text/x-python",
   "name": "python",
   "nbconvert_exporter": "python",
   "pygments_lexer": "ipython3",
   "version": "3.10.11"
  },
  "orig_nbformat": 4
 },
 "nbformat": 4,
 "nbformat_minor": 2
}
